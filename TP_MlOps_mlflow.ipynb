{
 "cells": [
  {
   "cell_type": "markdown",
   "metadata": {},
   "source": [
    "# Mettre en place MLflow"
   ]
  },
  {
   "cell_type": "code",
   "execution_count": 25,
   "metadata": {},
   "outputs": [
    {
     "name": "stdout",
     "output_type": "stream",
     "text": [
      "Requirement already satisfied: mlflow in c:\\users\\alban\\onedrive\\documents\\mlolp\\projet-main\\.venv\\lib\\site-packages (2.16.0)\n",
      "Requirement already satisfied: mlflow-skinny==2.16.0 in c:\\users\\alban\\onedrive\\documents\\mlolp\\projet-main\\.venv\\lib\\site-packages (from mlflow) (2.16.0)\n",
      "Requirement already satisfied: Flask<4 in c:\\users\\alban\\onedrive\\documents\\mlolp\\projet-main\\.venv\\lib\\site-packages (from mlflow) (3.0.3)\n",
      "Requirement already satisfied: alembic!=1.10.0,<2 in c:\\users\\alban\\onedrive\\documents\\mlolp\\projet-main\\.venv\\lib\\site-packages (from mlflow) (1.13.2)\n",
      "Requirement already satisfied: docker<8,>=4.0.0 in c:\\users\\alban\\onedrive\\documents\\mlolp\\projet-main\\.venv\\lib\\site-packages (from mlflow) (7.1.0)\n",
      "Requirement already satisfied: graphene<4 in c:\\users\\alban\\onedrive\\documents\\mlolp\\projet-main\\.venv\\lib\\site-packages (from mlflow) (3.3)\n",
      "Requirement already satisfied: markdown<4,>=3.3 in c:\\users\\alban\\onedrive\\documents\\mlolp\\projet-main\\.venv\\lib\\site-packages (from mlflow) (3.7)\n",
      "Requirement already satisfied: matplotlib<4 in c:\\users\\alban\\onedrive\\documents\\mlolp\\projet-main\\.venv\\lib\\site-packages (from mlflow) (3.9.2)\n",
      "Requirement already satisfied: numpy<3 in c:\\users\\alban\\onedrive\\documents\\mlolp\\projet-main\\.venv\\lib\\site-packages (from mlflow) (2.1.1)\n",
      "Requirement already satisfied: pandas<3 in c:\\users\\alban\\onedrive\\documents\\mlolp\\projet-main\\.venv\\lib\\site-packages (from mlflow) (2.2.2)\n",
      "Requirement already satisfied: pyarrow<18,>=4.0.0 in c:\\users\\alban\\onedrive\\documents\\mlolp\\projet-main\\.venv\\lib\\site-packages (from mlflow) (17.0.0)\n",
      "Requirement already satisfied: scikit-learn<2 in c:\\users\\alban\\onedrive\\documents\\mlolp\\projet-main\\.venv\\lib\\site-packages (from mlflow) (1.5.1)\n",
      "Requirement already satisfied: scipy<2 in c:\\users\\alban\\onedrive\\documents\\mlolp\\projet-main\\.venv\\lib\\site-packages (from mlflow) (1.14.1)\n",
      "Requirement already satisfied: sqlalchemy<3,>=1.4.0 in c:\\users\\alban\\onedrive\\documents\\mlolp\\projet-main\\.venv\\lib\\site-packages (from mlflow) (2.0.34)\n",
      "Requirement already satisfied: Jinja2<4,>=3.0 in c:\\users\\alban\\onedrive\\documents\\mlolp\\projet-main\\.venv\\lib\\site-packages (from mlflow) (3.1.4)\n",
      "Requirement already satisfied: waitress<4 in c:\\users\\alban\\onedrive\\documents\\mlolp\\projet-main\\.venv\\lib\\site-packages (from mlflow) (3.0.0)\n",
      "Requirement already satisfied: cachetools<6,>=5.0.0 in c:\\users\\alban\\onedrive\\documents\\mlolp\\projet-main\\.venv\\lib\\site-packages (from mlflow-skinny==2.16.0->mlflow) (5.5.0)\n",
      "Requirement already satisfied: click<9,>=7.0 in c:\\users\\alban\\onedrive\\documents\\mlolp\\projet-main\\.venv\\lib\\site-packages (from mlflow-skinny==2.16.0->mlflow) (8.1.7)\n",
      "Requirement already satisfied: cloudpickle<4 in c:\\users\\alban\\onedrive\\documents\\mlolp\\projet-main\\.venv\\lib\\site-packages (from mlflow-skinny==2.16.0->mlflow) (3.0.0)\n",
      "Requirement already satisfied: databricks-sdk<1,>=0.20.0 in c:\\users\\alban\\onedrive\\documents\\mlolp\\projet-main\\.venv\\lib\\site-packages (from mlflow-skinny==2.16.0->mlflow) (0.32.0)\n",
      "Requirement already satisfied: gitpython<4,>=3.1.9 in c:\\users\\alban\\onedrive\\documents\\mlolp\\projet-main\\.venv\\lib\\site-packages (from mlflow-skinny==2.16.0->mlflow) (3.1.43)\n",
      "Requirement already satisfied: importlib-metadata!=4.7.0,<9,>=3.7.0 in c:\\users\\alban\\onedrive\\documents\\mlolp\\projet-main\\.venv\\lib\\site-packages (from mlflow-skinny==2.16.0->mlflow) (8.4.0)\n",
      "Requirement already satisfied: opentelemetry-api<3,>=1.9.0 in c:\\users\\alban\\onedrive\\documents\\mlolp\\projet-main\\.venv\\lib\\site-packages (from mlflow-skinny==2.16.0->mlflow) (1.27.0)\n",
      "Requirement already satisfied: opentelemetry-sdk<3,>=1.9.0 in c:\\users\\alban\\onedrive\\documents\\mlolp\\projet-main\\.venv\\lib\\site-packages (from mlflow-skinny==2.16.0->mlflow) (1.27.0)\n",
      "Requirement already satisfied: packaging<25 in c:\\users\\alban\\onedrive\\documents\\mlolp\\projet-main\\.venv\\lib\\site-packages (from mlflow-skinny==2.16.0->mlflow) (24.1)\n",
      "Requirement already satisfied: protobuf<6,>=3.12.0 in c:\\users\\alban\\onedrive\\documents\\mlolp\\projet-main\\.venv\\lib\\site-packages (from mlflow-skinny==2.16.0->mlflow) (5.28.0)\n",
      "Requirement already satisfied: pyyaml<7,>=5.1 in c:\\users\\alban\\onedrive\\documents\\mlolp\\projet-main\\.venv\\lib\\site-packages (from mlflow-skinny==2.16.0->mlflow) (6.0.2)\n",
      "Requirement already satisfied: requests<3,>=2.17.3 in c:\\users\\alban\\onedrive\\documents\\mlolp\\projet-main\\.venv\\lib\\site-packages (from mlflow-skinny==2.16.0->mlflow) (2.32.3)\n",
      "Requirement already satisfied: sqlparse<1,>=0.4.0 in c:\\users\\alban\\onedrive\\documents\\mlolp\\projet-main\\.venv\\lib\\site-packages (from mlflow-skinny==2.16.0->mlflow) (0.5.1)\n",
      "Requirement already satisfied: Mako in c:\\users\\alban\\onedrive\\documents\\mlolp\\projet-main\\.venv\\lib\\site-packages (from alembic!=1.10.0,<2->mlflow) (1.3.5)\n",
      "Requirement already satisfied: typing-extensions>=4 in c:\\users\\alban\\onedrive\\documents\\mlolp\\projet-main\\.venv\\lib\\site-packages (from alembic!=1.10.0,<2->mlflow) (4.12.2)\n",
      "Requirement already satisfied: pywin32>=304 in c:\\users\\alban\\onedrive\\documents\\mlolp\\projet-main\\.venv\\lib\\site-packages (from docker<8,>=4.0.0->mlflow) (306)\n",
      "Requirement already satisfied: urllib3>=1.26.0 in c:\\users\\alban\\onedrive\\documents\\mlolp\\projet-main\\.venv\\lib\\site-packages (from docker<8,>=4.0.0->mlflow) (2.2.2)\n",
      "Requirement already satisfied: Werkzeug>=3.0.0 in c:\\users\\alban\\onedrive\\documents\\mlolp\\projet-main\\.venv\\lib\\site-packages (from Flask<4->mlflow) (3.0.4)\n",
      "Requirement already satisfied: itsdangerous>=2.1.2 in c:\\users\\alban\\onedrive\\documents\\mlolp\\projet-main\\.venv\\lib\\site-packages (from Flask<4->mlflow) (2.2.0)\n",
      "Requirement already satisfied: blinker>=1.6.2 in c:\\users\\alban\\onedrive\\documents\\mlolp\\projet-main\\.venv\\lib\\site-packages (from Flask<4->mlflow) (1.8.2)\n",
      "Requirement already satisfied: graphql-core<3.3,>=3.1 in c:\\users\\alban\\onedrive\\documents\\mlolp\\projet-main\\.venv\\lib\\site-packages (from graphene<4->mlflow) (3.2.4)\n",
      "Requirement already satisfied: graphql-relay<3.3,>=3.1 in c:\\users\\alban\\onedrive\\documents\\mlolp\\projet-main\\.venv\\lib\\site-packages (from graphene<4->mlflow) (3.2.0)\n",
      "Requirement already satisfied: aniso8601<10,>=8 in c:\\users\\alban\\onedrive\\documents\\mlolp\\projet-main\\.venv\\lib\\site-packages (from graphene<4->mlflow) (9.0.1)\n",
      "Requirement already satisfied: MarkupSafe>=2.0 in c:\\users\\alban\\onedrive\\documents\\mlolp\\projet-main\\.venv\\lib\\site-packages (from Jinja2<4,>=3.0->mlflow) (2.1.5)\n",
      "Requirement already satisfied: contourpy>=1.0.1 in c:\\users\\alban\\onedrive\\documents\\mlolp\\projet-main\\.venv\\lib\\site-packages (from matplotlib<4->mlflow) (1.3.0)\n",
      "Requirement already satisfied: cycler>=0.10 in c:\\users\\alban\\onedrive\\documents\\mlolp\\projet-main\\.venv\\lib\\site-packages (from matplotlib<4->mlflow) (0.12.1)\n",
      "Requirement already satisfied: fonttools>=4.22.0 in c:\\users\\alban\\onedrive\\documents\\mlolp\\projet-main\\.venv\\lib\\site-packages (from matplotlib<4->mlflow) (4.53.1)\n",
      "Requirement already satisfied: kiwisolver>=1.3.1 in c:\\users\\alban\\onedrive\\documents\\mlolp\\projet-main\\.venv\\lib\\site-packages (from matplotlib<4->mlflow) (1.4.7)\n",
      "Requirement already satisfied: pillow>=8 in c:\\users\\alban\\onedrive\\documents\\mlolp\\projet-main\\.venv\\lib\\site-packages (from matplotlib<4->mlflow) (10.4.0)\n",
      "Requirement already satisfied: pyparsing>=2.3.1 in c:\\users\\alban\\onedrive\\documents\\mlolp\\projet-main\\.venv\\lib\\site-packages (from matplotlib<4->mlflow) (3.1.4)\n",
      "Requirement already satisfied: python-dateutil>=2.7 in c:\\users\\alban\\onedrive\\documents\\mlolp\\projet-main\\.venv\\lib\\site-packages (from matplotlib<4->mlflow) (2.9.0.post0)\n",
      "Requirement already satisfied: pytz>=2020.1 in c:\\users\\alban\\onedrive\\documents\\mlolp\\projet-main\\.venv\\lib\\site-packages (from pandas<3->mlflow) (2024.1)\n",
      "Requirement already satisfied: tzdata>=2022.7 in c:\\users\\alban\\onedrive\\documents\\mlolp\\projet-main\\.venv\\lib\\site-packages (from pandas<3->mlflow) (2024.1)\n",
      "Requirement already satisfied: joblib>=1.2.0 in c:\\users\\alban\\onedrive\\documents\\mlolp\\projet-main\\.venv\\lib\\site-packages (from scikit-learn<2->mlflow) (1.4.2)\n",
      "Requirement already satisfied: threadpoolctl>=3.1.0 in c:\\users\\alban\\onedrive\\documents\\mlolp\\projet-main\\.venv\\lib\\site-packages (from scikit-learn<2->mlflow) (3.5.0)\n",
      "Requirement already satisfied: greenlet!=0.4.17 in c:\\users\\alban\\onedrive\\documents\\mlolp\\projet-main\\.venv\\lib\\site-packages (from sqlalchemy<3,>=1.4.0->mlflow) (3.0.3)\n",
      "Requirement already satisfied: colorama in c:\\users\\alban\\onedrive\\documents\\mlolp\\projet-main\\.venv\\lib\\site-packages (from click<9,>=7.0->mlflow-skinny==2.16.0->mlflow) (0.4.6)\n",
      "Requirement already satisfied: google-auth~=2.0 in c:\\users\\alban\\onedrive\\documents\\mlolp\\projet-main\\.venv\\lib\\site-packages (from databricks-sdk<1,>=0.20.0->mlflow-skinny==2.16.0->mlflow) (2.34.0)\n",
      "Requirement already satisfied: gitdb<5,>=4.0.1 in c:\\users\\alban\\onedrive\\documents\\mlolp\\projet-main\\.venv\\lib\\site-packages (from gitpython<4,>=3.1.9->mlflow-skinny==2.16.0->mlflow) (4.0.11)\n",
      "Requirement already satisfied: zipp>=0.5 in c:\\users\\alban\\onedrive\\documents\\mlolp\\projet-main\\.venv\\lib\\site-packages (from importlib-metadata!=4.7.0,<9,>=3.7.0->mlflow-skinny==2.16.0->mlflow) (3.20.1)\n",
      "Requirement already satisfied: deprecated>=1.2.6 in c:\\users\\alban\\onedrive\\documents\\mlolp\\projet-main\\.venv\\lib\\site-packages (from opentelemetry-api<3,>=1.9.0->mlflow-skinny==2.16.0->mlflow) (1.2.14)\n",
      "Requirement already satisfied: opentelemetry-semantic-conventions==0.48b0 in c:\\users\\alban\\onedrive\\documents\\mlolp\\projet-main\\.venv\\lib\\site-packages (from opentelemetry-sdk<3,>=1.9.0->mlflow-skinny==2.16.0->mlflow) (0.48b0)\n",
      "Requirement already satisfied: six>=1.5 in c:\\users\\alban\\onedrive\\documents\\mlolp\\projet-main\\.venv\\lib\\site-packages (from python-dateutil>=2.7->matplotlib<4->mlflow) (1.16.0)\n",
      "Requirement already satisfied: charset-normalizer<4,>=2 in c:\\users\\alban\\onedrive\\documents\\mlolp\\projet-main\\.venv\\lib\\site-packages (from requests<3,>=2.17.3->mlflow-skinny==2.16.0->mlflow) (3.3.2)\n",
      "Requirement already satisfied: idna<4,>=2.5 in c:\\users\\alban\\onedrive\\documents\\mlolp\\projet-main\\.venv\\lib\\site-packages (from requests<3,>=2.17.3->mlflow-skinny==2.16.0->mlflow) (3.8)\n",
      "Requirement already satisfied: certifi>=2017.4.17 in c:\\users\\alban\\onedrive\\documents\\mlolp\\projet-main\\.venv\\lib\\site-packages (from requests<3,>=2.17.3->mlflow-skinny==2.16.0->mlflow) (2024.8.30)\n",
      "Requirement already satisfied: wrapt<2,>=1.10 in c:\\users\\alban\\onedrive\\documents\\mlolp\\projet-main\\.venv\\lib\\site-packages (from deprecated>=1.2.6->opentelemetry-api<3,>=1.9.0->mlflow-skinny==2.16.0->mlflow) (1.16.0)\n",
      "Requirement already satisfied: smmap<6,>=3.0.1 in c:\\users\\alban\\onedrive\\documents\\mlolp\\projet-main\\.venv\\lib\\site-packages (from gitdb<5,>=4.0.1->gitpython<4,>=3.1.9->mlflow-skinny==2.16.0->mlflow) (5.0.1)\n",
      "Requirement already satisfied: pyasn1-modules>=0.2.1 in c:\\users\\alban\\onedrive\\documents\\mlolp\\projet-main\\.venv\\lib\\site-packages (from google-auth~=2.0->databricks-sdk<1,>=0.20.0->mlflow-skinny==2.16.0->mlflow) (0.4.0)\n",
      "Requirement already satisfied: rsa<5,>=3.1.4 in c:\\users\\alban\\onedrive\\documents\\mlolp\\projet-main\\.venv\\lib\\site-packages (from google-auth~=2.0->databricks-sdk<1,>=0.20.0->mlflow-skinny==2.16.0->mlflow) (4.9)\n",
      "Requirement already satisfied: pyasn1<0.7.0,>=0.4.6 in c:\\users\\alban\\onedrive\\documents\\mlolp\\projet-main\\.venv\\lib\\site-packages (from pyasn1-modules>=0.2.1->google-auth~=2.0->databricks-sdk<1,>=0.20.0->mlflow-skinny==2.16.0->mlflow) (0.6.0)\n",
      "Requirement already satisfied: jinja2 in c:\\users\\alban\\onedrive\\documents\\mlolp\\projet-main\\.venv\\lib\\site-packages (3.1.4)\n",
      "Requirement already satisfied: MarkupSafe>=2.0 in c:\\users\\alban\\onedrive\\documents\\mlolp\\projet-main\\.venv\\lib\\site-packages (from jinja2) (2.1.5)\n",
      "Requirement already satisfied: Flask in c:\\users\\alban\\onedrive\\documents\\mlolp\\projet-main\\.venv\\lib\\site-packages (3.0.3)\n",
      "Requirement already satisfied: Werkzeug>=3.0.0 in c:\\users\\alban\\onedrive\\documents\\mlolp\\projet-main\\.venv\\lib\\site-packages (from Flask) (3.0.4)\n",
      "Requirement already satisfied: Jinja2>=3.1.2 in c:\\users\\alban\\onedrive\\documents\\mlolp\\projet-main\\.venv\\lib\\site-packages (from Flask) (3.1.4)\n",
      "Requirement already satisfied: itsdangerous>=2.1.2 in c:\\users\\alban\\onedrive\\documents\\mlolp\\projet-main\\.venv\\lib\\site-packages (from Flask) (2.2.0)\n",
      "Requirement already satisfied: click>=8.1.3 in c:\\users\\alban\\onedrive\\documents\\mlolp\\projet-main\\.venv\\lib\\site-packages (from Flask) (8.1.7)\n",
      "Requirement already satisfied: blinker>=1.6.2 in c:\\users\\alban\\onedrive\\documents\\mlolp\\projet-main\\.venv\\lib\\site-packages (from Flask) (1.8.2)\n",
      "Requirement already satisfied: colorama in c:\\users\\alban\\onedrive\\documents\\mlolp\\projet-main\\.venv\\lib\\site-packages (from click>=8.1.3->Flask) (0.4.6)\n",
      "Requirement already satisfied: MarkupSafe>=2.0 in c:\\users\\alban\\onedrive\\documents\\mlolp\\projet-main\\.venv\\lib\\site-packages (from Jinja2>=3.1.2->Flask) (2.1.5)\n",
      "Requirement already satisfied: setuptools in c:\\users\\alban\\onedrive\\documents\\mlolp\\projet-main\\.venv\\lib\\site-packages (65.5.0)\n"
     ]
    }
   ],
   "source": [
    "# Install the following librairies (it is better to create a venv (or conda) virtual environment first and install these librairies in it)\n",
    "!pip install mlflow\n",
    "!pip install --upgrade jinja2\n",
    "!pip install --upgrade Flask\n",
    "!pip install setuptools"
   ]
  },
  {
   "cell_type": "code",
   "execution_count": 26,
   "metadata": {},
   "outputs": [
    {
     "name": "stdout",
     "output_type": "stream",
     "text": [
      "^C\n"
     ]
    }
   ],
   "source": [
    "\n",
    "# starts an MLflow server locally.\n",
    "!mlflow server --host 127.0.0.1 --port 5000\n"
   ]
  },
  {
   "cell_type": "markdown",
   "metadata": {},
   "source": [
    "Initier une nouvelle Expérience.\n",
    "\n",
    "Démarrer des Exécutions au sein d'une Expérience.\n",
    "\n",
    "Documenter les paramètres, les métriques et les balises pour vos Exécutions.\n",
    "\n",
    "Enregistrer des artefacts liés aux exécutions, tels que des modèles, des tableaux, des graphiques, et plus encore.\n"
   ]
  },
  {
   "cell_type": "code",
   "execution_count": 5,
   "metadata": {},
   "outputs": [],
   "source": [
    "from mlflow import MlflowClient\n",
    "from pprint import pprint\n",
    "from sklearn.ensemble import RandomForestRegressor\n"
   ]
  },
  {
   "cell_type": "markdown",
   "metadata": {},
   "source": []
  },
  {
   "cell_type": "code",
   "execution_count": 6,
   "metadata": {},
   "outputs": [],
   "source": [
    "# In order to connect to the tracking server, we’ll need to use the uri that we assigned the server when we started it.\n",
    "\n",
    "client = MlflowClient(tracking_uri=\"http://127.0.0.1:5000\")\n",
    "\n",
    "#it allows programmatic interaction with the MLflow tracking server."
   ]
  },
  {
   "cell_type": "markdown",
   "metadata": {},
   "source": [
    "Nous avons maintenant une interface client vers le serveur de suivi qui peut à la fois envoyer des données au serveur de suivi et en récupérer.\n",
    "\n"
   ]
  },
  {
   "cell_type": "code",
   "execution_count": 7,
   "metadata": {},
   "outputs": [
    {
     "name": "stdout",
     "output_type": "stream",
     "text": [
      "[<Experiment: artifact_location='mlflow-artifacts:/286315274138648484', creation_time=1725693195773, experiment_id='286315274138648484', last_update_time=1725693195773, lifecycle_stage='active', name='LogisticRegression_Models', tags={}>, <Experiment: artifact_location='mlflow-artifacts:/892581525100417762', creation_time=1725647809507, experiment_id='892581525100417762', last_update_time=1725647809507, lifecycle_stage='active', name='Apple_Models', tags={'mlflow.note.content': 'This is the grocery forecasting project. This '\n",
      "                        'experiment contains the produce models for apples.',\n",
      " 'project_name': 'grocery-forecasting',\n",
      " 'project_quarter': 'Q3-2023',\n",
      " 'store_dept': 'produce',\n",
      " 'team': 'stores-ml'}>, <Experiment: artifact_location='mlflow-artifacts:/0', creation_time=1725646407256, experiment_id='0', last_update_time=1725646407256, lifecycle_stage='active', name='Default', tags={}>]\n"
     ]
    }
   ],
   "source": [
    "all_experiments = client.search_experiments()\n",
    "\n",
    "print(all_experiments)\n"
   ]
  },
  {
   "cell_type": "markdown",
   "metadata": {},
   "source": [
    "### Créer une expérience"
   ]
  },
  {
   "cell_type": "code",
   "execution_count": 8,
   "metadata": {},
   "outputs": [],
   "source": [
    "# Fournir une description de l'expérience qui apparaîtra dans l'interface utilisateur\n",
    "experiment_description = (\n",
    "    \"Ceci est un projet de prédiction de défaut de paiement des clients. \"\n",
    "    \"Cette expérience contient les modèles pour la prédiction de défaut de crédit.\"\n",
    ")\n",
    "\n",
    "# Fournir des balises (tags) recherchables qui définissent les caractéristiques des exécutions (Runs)\n",
    "# qui feront partie de cette expérience\n",
    "experiment_tags = {\n",
    "    \"project_name\": \"credit-default-prediction\",\n",
    "    \"business_unit\": \"risk-management\",\n",
    "    \"team\": \"data-science\",\n",
    "    \"project_quarter\": \"Q3-2023\",\n",
    "    \"mlflow.note.content\": experiment_description,\n",
    "}\n",
    "\n",
    "# Créer l'expérience en fournissant un nom unique\n",
    "credit_default_experiment = client.create_experiment(\n",
    "    name=\"Credit_Default_Models\", tags=experiment_tags\n",
    ")"
   ]
  },
  {
   "cell_type": "code",
   "execution_count": 9,
   "metadata": {},
   "outputs": [
    {
     "name": "stdout",
     "output_type": "stream",
     "text": [
      "{'_experiment_id': '544091467554629469', '_name': 'Credit_Default_Models', '_artifact_location': 'mlflow-artifacts:/544091467554629469', '_lifecycle_stage': 'active', '_tags': {'business_unit': 'risk-management', 'mlflow.note.content': 'Ceci est un projet de prédiction de défaut de paiement des clients. Cette expérience contient les modèles pour la prédiction de défaut de crédit.', 'project_name': 'credit-default-prediction', 'project_quarter': 'Q3-2023', 'team': 'data-science'}, '_creation_time': 1725784122891, '_last_update_time': 1725784122891}\n"
     ]
    }
   ],
   "source": [
    "\n",
    "# Utiliser search_experiments() pour rechercher les expériences par la balise project_name\n",
    "\n",
    "credit_default_experiment = client.search_experiments(\n",
    "    filter_string=\"tags.`project_name` = 'credit-default-prediction'\"\n",
    ")\n",
    "\n",
    "print(vars(credit_default_experiment[0]))\n",
    "\n"
   ]
  },
  {
   "cell_type": "markdown",
   "metadata": {},
   "source": [
    "### Dataset"
   ]
  },
  {
   "cell_type": "code",
   "execution_count": 10,
   "metadata": {},
   "outputs": [],
   "source": [
    "import pandas as pd\n",
    "\n",
    "# Charger les données\n",
    "data = pd.read_csv(\"Loan_Data(1).csv\")\n",
    "\n"
   ]
  },
  {
   "cell_type": "code",
   "execution_count": 11,
   "metadata": {},
   "outputs": [
    {
     "data": {
      "text/html": [
       "<div>\n",
       "<style scoped>\n",
       "    .dataframe tbody tr th:only-of-type {\n",
       "        vertical-align: middle;\n",
       "    }\n",
       "\n",
       "    .dataframe tbody tr th {\n",
       "        vertical-align: top;\n",
       "    }\n",
       "\n",
       "    .dataframe thead th {\n",
       "        text-align: right;\n",
       "    }\n",
       "</style>\n",
       "<table border=\"1\" class=\"dataframe\">\n",
       "  <thead>\n",
       "    <tr style=\"text-align: right;\">\n",
       "      <th></th>\n",
       "      <th>customer_id</th>\n",
       "      <th>credit_lines_outstanding</th>\n",
       "      <th>loan_amt_outstanding</th>\n",
       "      <th>total_debt_outstanding</th>\n",
       "      <th>income</th>\n",
       "      <th>years_employed</th>\n",
       "      <th>fico_score</th>\n",
       "      <th>default</th>\n",
       "    </tr>\n",
       "  </thead>\n",
       "  <tbody>\n",
       "    <tr>\n",
       "      <th>0</th>\n",
       "      <td>8153374</td>\n",
       "      <td>0</td>\n",
       "      <td>5221.545193</td>\n",
       "      <td>3915.471226</td>\n",
       "      <td>78039.38546</td>\n",
       "      <td>5</td>\n",
       "      <td>605</td>\n",
       "      <td>0</td>\n",
       "    </tr>\n",
       "    <tr>\n",
       "      <th>1</th>\n",
       "      <td>7442532</td>\n",
       "      <td>5</td>\n",
       "      <td>1958.928726</td>\n",
       "      <td>8228.752520</td>\n",
       "      <td>26648.43525</td>\n",
       "      <td>2</td>\n",
       "      <td>572</td>\n",
       "      <td>1</td>\n",
       "    </tr>\n",
       "    <tr>\n",
       "      <th>2</th>\n",
       "      <td>2256073</td>\n",
       "      <td>0</td>\n",
       "      <td>3363.009259</td>\n",
       "      <td>2027.830850</td>\n",
       "      <td>65866.71246</td>\n",
       "      <td>4</td>\n",
       "      <td>602</td>\n",
       "      <td>0</td>\n",
       "    </tr>\n",
       "    <tr>\n",
       "      <th>3</th>\n",
       "      <td>4885975</td>\n",
       "      <td>0</td>\n",
       "      <td>4766.648001</td>\n",
       "      <td>2501.730397</td>\n",
       "      <td>74356.88347</td>\n",
       "      <td>5</td>\n",
       "      <td>612</td>\n",
       "      <td>0</td>\n",
       "    </tr>\n",
       "    <tr>\n",
       "      <th>4</th>\n",
       "      <td>4700614</td>\n",
       "      <td>1</td>\n",
       "      <td>1345.827718</td>\n",
       "      <td>1768.826187</td>\n",
       "      <td>23448.32631</td>\n",
       "      <td>6</td>\n",
       "      <td>631</td>\n",
       "      <td>0</td>\n",
       "    </tr>\n",
       "  </tbody>\n",
       "</table>\n",
       "</div>"
      ],
      "text/plain": [
       "   customer_id  credit_lines_outstanding  loan_amt_outstanding  \\\n",
       "0      8153374                         0           5221.545193   \n",
       "1      7442532                         5           1958.928726   \n",
       "2      2256073                         0           3363.009259   \n",
       "3      4885975                         0           4766.648001   \n",
       "4      4700614                         1           1345.827718   \n",
       "\n",
       "   total_debt_outstanding       income  years_employed  fico_score  default  \n",
       "0             3915.471226  78039.38546               5         605        0  \n",
       "1             8228.752520  26648.43525               2         572        1  \n",
       "2             2027.830850  65866.71246               4         602        0  \n",
       "3             2501.730397  74356.88347               5         612        0  \n",
       "4             1768.826187  23448.32631               6         631        0  "
      ]
     },
     "execution_count": 11,
     "metadata": {},
     "output_type": "execute_result"
    }
   ],
   "source": [
    "\n",
    "data.head()"
   ]
  },
  {
   "cell_type": "markdown",
   "metadata": {},
   "source": [
    "### Logging our first runs with MLflow"
   ]
  },
  {
   "cell_type": "code",
   "execution_count": 12,
   "metadata": {},
   "outputs": [],
   "source": [
    "import mlflow\n",
    "from sklearn.model_selection import train_test_split\n",
    "from sklearn.ensemble import RandomForestRegressor\n",
    "from sklearn.metrics import mean_absolute_error, mean_squared_error, r2_score\n"
   ]
  },
  {
   "cell_type": "code",
   "execution_count": 13,
   "metadata": {},
   "outputs": [],
   "source": [
    "# This function call sets the global tracking URI for the current session.\n",
    "# It’s a convenient way to configure the tracking server URI without creating a separate client instance.\n",
    "\n",
    "mlflow.set_tracking_uri(\"http://127.0.0.1:5000\")\n"
   ]
  },
  {
   "cell_type": "code",
   "execution_count": 15,
   "metadata": {},
   "outputs": [],
   "source": [
    "# Sets the current active experiment to the \"Apple_Models\" experiment and\n",
    "# returns the Experiment metadata\n",
    "# Définir l'expérience active pour votre projet\n",
    "customer_default_experiment = mlflow.set_experiment(\"Client_Default_Prediction\")\n",
    "\n",
    "# Define a run name for this iteration of training.\n",
    "# If this is not set, a unique name will be auto-generated for your run.\n",
    "run_name = \"default_rf_test\"\n",
    "\n",
    "# Define an artifact path that the model will be saved to.\n",
    "# Définir le chemin des artefacts\n",
    "artifact_path = \"rf_default_model\"\n",
    "\n"
   ]
  },
  {
   "cell_type": "markdown",
   "metadata": {},
   "source": [
    "### Modèle"
   ]
  },
  {
   "cell_type": "code",
   "execution_count": 27,
   "metadata": {},
   "outputs": [
    {
     "name": "stderr",
     "output_type": "stream",
     "text": [
      "c:\\Users\\alban\\OneDrive\\Documents\\MLolp\\projet-main\\.venv\\Lib\\site-packages\\mlflow\\types\\utils.py:407: UserWarning: Hint: Inferred schema contains integer column(s). Integer columns in Python cannot represent missing values. If your input data contains missing values at inference time, it will be encoded as floats and will cause a schema enforcement error. The best way to avoid this problem is to infer the model schema based on a realistic data sample (training dataset) that includes missing values. Alternatively, you can declare integer columns as doubles (float64) whenever these columns may have missing values. See `Handling Integers With Missing Values <https://www.mlflow.org/docs/latest/models.html#handling-integers-with-missing-values>`_ for more details.\n",
      "  warnings.warn(\n",
      "c:\\Users\\alban\\OneDrive\\Documents\\MLolp\\projet-main\\.venv\\Lib\\site-packages\\mlflow\\types\\utils.py:407: UserWarning: Hint: Inferred schema contains integer column(s). Integer columns in Python cannot represent missing values. If your input data contains missing values at inference time, it will be encoded as floats and will cause a schema enforcement error. The best way to avoid this problem is to infer the model schema based on a realistic data sample (training dataset) that includes missing values. Alternatively, you can declare integer columns as doubles (float64) whenever these columns may have missing values. See `Handling Integers With Missing Values <https://www.mlflow.org/docs/latest/models.html#handling-integers-with-missing-values>`_ for more details.\n",
      "  warnings.warn(\n",
      "2024/09/08 11:11:27 INFO mlflow.tracking._tracking_service.client: 🏃 View run logistic_regression_run_1 at: http://127.0.0.1:5000/#/experiments/286315274138648484/runs/89d7fadeb5ca4611931072a1c1295893.\n",
      "2024/09/08 11:11:27 INFO mlflow.tracking._tracking_service.client: 🧪 View experiment at: http://127.0.0.1:5000/#/experiments/286315274138648484.\n"
     ]
    },
    {
     "name": "stdout",
     "output_type": "stream",
     "text": [
      "Run 1 completed with parameters: {'C': 0.01, 'solver': 'liblinear', 'random_state': 42, 'class_weight': 'balanced'}\n",
      "              precision    recall  f1-score   support\n",
      "\n",
      "           0       1.00      0.98      0.99      1652\n",
      "           1       0.91      0.98      0.94       348\n",
      "\n",
      "    accuracy                           0.98      2000\n",
      "   macro avg       0.95      0.98      0.96      2000\n",
      "weighted avg       0.98      0.98      0.98      2000\n",
      "\n"
     ]
    },
    {
     "name": "stderr",
     "output_type": "stream",
     "text": [
      "c:\\Users\\alban\\OneDrive\\Documents\\MLolp\\projet-main\\.venv\\Lib\\site-packages\\mlflow\\types\\utils.py:407: UserWarning: Hint: Inferred schema contains integer column(s). Integer columns in Python cannot represent missing values. If your input data contains missing values at inference time, it will be encoded as floats and will cause a schema enforcement error. The best way to avoid this problem is to infer the model schema based on a realistic data sample (training dataset) that includes missing values. Alternatively, you can declare integer columns as doubles (float64) whenever these columns may have missing values. See `Handling Integers With Missing Values <https://www.mlflow.org/docs/latest/models.html#handling-integers-with-missing-values>`_ for more details.\n",
      "  warnings.warn(\n",
      "c:\\Users\\alban\\OneDrive\\Documents\\MLolp\\projet-main\\.venv\\Lib\\site-packages\\mlflow\\types\\utils.py:407: UserWarning: Hint: Inferred schema contains integer column(s). Integer columns in Python cannot represent missing values. If your input data contains missing values at inference time, it will be encoded as floats and will cause a schema enforcement error. The best way to avoid this problem is to infer the model schema based on a realistic data sample (training dataset) that includes missing values. Alternatively, you can declare integer columns as doubles (float64) whenever these columns may have missing values. See `Handling Integers With Missing Values <https://www.mlflow.org/docs/latest/models.html#handling-integers-with-missing-values>`_ for more details.\n",
      "  warnings.warn(\n",
      "2024/09/08 11:11:29 INFO mlflow.tracking._tracking_service.client: 🏃 View run logistic_regression_run_2 at: http://127.0.0.1:5000/#/experiments/286315274138648484/runs/2048d65d33e04e839cf471cc4bbeb47f.\n",
      "2024/09/08 11:11:29 INFO mlflow.tracking._tracking_service.client: 🧪 View experiment at: http://127.0.0.1:5000/#/experiments/286315274138648484.\n"
     ]
    },
    {
     "name": "stdout",
     "output_type": "stream",
     "text": [
      "Run 2 completed with parameters: {'C': 0.1, 'solver': 'liblinear', 'random_state': 42, 'class_weight': 'balanced'}\n",
      "              precision    recall  f1-score   support\n",
      "\n",
      "           0       1.00      0.98      0.99      1652\n",
      "           1       0.91      0.98      0.94       348\n",
      "\n",
      "    accuracy                           0.98      2000\n",
      "   macro avg       0.95      0.98      0.96      2000\n",
      "weighted avg       0.98      0.98      0.98      2000\n",
      "\n"
     ]
    },
    {
     "name": "stderr",
     "output_type": "stream",
     "text": [
      "c:\\Users\\alban\\OneDrive\\Documents\\MLolp\\projet-main\\.venv\\Lib\\site-packages\\mlflow\\types\\utils.py:407: UserWarning: Hint: Inferred schema contains integer column(s). Integer columns in Python cannot represent missing values. If your input data contains missing values at inference time, it will be encoded as floats and will cause a schema enforcement error. The best way to avoid this problem is to infer the model schema based on a realistic data sample (training dataset) that includes missing values. Alternatively, you can declare integer columns as doubles (float64) whenever these columns may have missing values. See `Handling Integers With Missing Values <https://www.mlflow.org/docs/latest/models.html#handling-integers-with-missing-values>`_ for more details.\n",
      "  warnings.warn(\n",
      "c:\\Users\\alban\\OneDrive\\Documents\\MLolp\\projet-main\\.venv\\Lib\\site-packages\\mlflow\\types\\utils.py:407: UserWarning: Hint: Inferred schema contains integer column(s). Integer columns in Python cannot represent missing values. If your input data contains missing values at inference time, it will be encoded as floats and will cause a schema enforcement error. The best way to avoid this problem is to infer the model schema based on a realistic data sample (training dataset) that includes missing values. Alternatively, you can declare integer columns as doubles (float64) whenever these columns may have missing values. See `Handling Integers With Missing Values <https://www.mlflow.org/docs/latest/models.html#handling-integers-with-missing-values>`_ for more details.\n",
      "  warnings.warn(\n",
      "2024/09/08 11:11:32 INFO mlflow.tracking._tracking_service.client: 🏃 View run logistic_regression_run_3 at: http://127.0.0.1:5000/#/experiments/286315274138648484/runs/5644f6235894494cb34166b0a1bcc628.\n",
      "2024/09/08 11:11:32 INFO mlflow.tracking._tracking_service.client: 🧪 View experiment at: http://127.0.0.1:5000/#/experiments/286315274138648484.\n"
     ]
    },
    {
     "name": "stdout",
     "output_type": "stream",
     "text": [
      "Run 3 completed with parameters: {'C': 1.0, 'solver': 'liblinear', 'random_state': 42, 'class_weight': 'balanced'}\n",
      "              precision    recall  f1-score   support\n",
      "\n",
      "           0       1.00      0.98      0.99      1652\n",
      "           1       0.91      0.98      0.94       348\n",
      "\n",
      "    accuracy                           0.98      2000\n",
      "   macro avg       0.95      0.98      0.96      2000\n",
      "weighted avg       0.98      0.98      0.98      2000\n",
      "\n"
     ]
    },
    {
     "name": "stderr",
     "output_type": "stream",
     "text": [
      "c:\\Users\\alban\\OneDrive\\Documents\\MLolp\\projet-main\\.venv\\Lib\\site-packages\\mlflow\\types\\utils.py:407: UserWarning: Hint: Inferred schema contains integer column(s). Integer columns in Python cannot represent missing values. If your input data contains missing values at inference time, it will be encoded as floats and will cause a schema enforcement error. The best way to avoid this problem is to infer the model schema based on a realistic data sample (training dataset) that includes missing values. Alternatively, you can declare integer columns as doubles (float64) whenever these columns may have missing values. See `Handling Integers With Missing Values <https://www.mlflow.org/docs/latest/models.html#handling-integers-with-missing-values>`_ for more details.\n",
      "  warnings.warn(\n",
      "c:\\Users\\alban\\OneDrive\\Documents\\MLolp\\projet-main\\.venv\\Lib\\site-packages\\mlflow\\types\\utils.py:407: UserWarning: Hint: Inferred schema contains integer column(s). Integer columns in Python cannot represent missing values. If your input data contains missing values at inference time, it will be encoded as floats and will cause a schema enforcement error. The best way to avoid this problem is to infer the model schema based on a realistic data sample (training dataset) that includes missing values. Alternatively, you can declare integer columns as doubles (float64) whenever these columns may have missing values. See `Handling Integers With Missing Values <https://www.mlflow.org/docs/latest/models.html#handling-integers-with-missing-values>`_ for more details.\n",
      "  warnings.warn(\n",
      "2024/09/08 11:11:35 INFO mlflow.tracking._tracking_service.client: 🏃 View run logistic_regression_run_4 at: http://127.0.0.1:5000/#/experiments/286315274138648484/runs/2b1cd40a447c45e88d0b1b0a84042e32.\n",
      "2024/09/08 11:11:35 INFO mlflow.tracking._tracking_service.client: 🧪 View experiment at: http://127.0.0.1:5000/#/experiments/286315274138648484.\n"
     ]
    },
    {
     "name": "stdout",
     "output_type": "stream",
     "text": [
      "Run 4 completed with parameters: {'C': 10.0, 'solver': 'liblinear', 'random_state': 42, 'class_weight': 'balanced'}\n",
      "              precision    recall  f1-score   support\n",
      "\n",
      "           0       1.00      0.98      0.99      1652\n",
      "           1       0.91      0.98      0.94       348\n",
      "\n",
      "    accuracy                           0.98      2000\n",
      "   macro avg       0.95      0.98      0.96      2000\n",
      "weighted avg       0.98      0.98      0.98      2000\n",
      "\n"
     ]
    },
    {
     "name": "stderr",
     "output_type": "stream",
     "text": [
      "c:\\Users\\alban\\OneDrive\\Documents\\MLolp\\projet-main\\.venv\\Lib\\site-packages\\mlflow\\types\\utils.py:407: UserWarning: Hint: Inferred schema contains integer column(s). Integer columns in Python cannot represent missing values. If your input data contains missing values at inference time, it will be encoded as floats and will cause a schema enforcement error. The best way to avoid this problem is to infer the model schema based on a realistic data sample (training dataset) that includes missing values. Alternatively, you can declare integer columns as doubles (float64) whenever these columns may have missing values. See `Handling Integers With Missing Values <https://www.mlflow.org/docs/latest/models.html#handling-integers-with-missing-values>`_ for more details.\n",
      "  warnings.warn(\n",
      "c:\\Users\\alban\\OneDrive\\Documents\\MLolp\\projet-main\\.venv\\Lib\\site-packages\\mlflow\\types\\utils.py:407: UserWarning: Hint: Inferred schema contains integer column(s). Integer columns in Python cannot represent missing values. If your input data contains missing values at inference time, it will be encoded as floats and will cause a schema enforcement error. The best way to avoid this problem is to infer the model schema based on a realistic data sample (training dataset) that includes missing values. Alternatively, you can declare integer columns as doubles (float64) whenever these columns may have missing values. See `Handling Integers With Missing Values <https://www.mlflow.org/docs/latest/models.html#handling-integers-with-missing-values>`_ for more details.\n",
      "  warnings.warn(\n",
      "2024/09/08 11:11:38 INFO mlflow.tracking._tracking_service.client: 🏃 View run logistic_regression_run_5 at: http://127.0.0.1:5000/#/experiments/286315274138648484/runs/a831d5a14215403e92bc321f5adddd57.\n",
      "2024/09/08 11:11:38 INFO mlflow.tracking._tracking_service.client: 🧪 View experiment at: http://127.0.0.1:5000/#/experiments/286315274138648484.\n"
     ]
    },
    {
     "name": "stdout",
     "output_type": "stream",
     "text": [
      "Run 5 completed with parameters: {'C': 100.0, 'solver': 'liblinear', 'random_state': 42, 'class_weight': 'balanced'}\n",
      "              precision    recall  f1-score   support\n",
      "\n",
      "           0       1.00      0.98      0.99      1652\n",
      "           1       0.91      0.98      0.94       348\n",
      "\n",
      "    accuracy                           0.98      2000\n",
      "   macro avg       0.95      0.98      0.96      2000\n",
      "weighted avg       0.98      0.98      0.98      2000\n",
      "\n"
     ]
    },
    {
     "name": "stderr",
     "output_type": "stream",
     "text": [
      "c:\\Users\\alban\\OneDrive\\Documents\\MLolp\\projet-main\\.venv\\Lib\\site-packages\\sklearn\\linear_model\\_logistic.py:469: ConvergenceWarning: lbfgs failed to converge (status=1):\n",
      "STOP: TOTAL NO. of ITERATIONS REACHED LIMIT.\n",
      "\n",
      "Increase the number of iterations (max_iter) or scale the data as shown in:\n",
      "    https://scikit-learn.org/stable/modules/preprocessing.html\n",
      "Please also refer to the documentation for alternative solver options:\n",
      "    https://scikit-learn.org/stable/modules/linear_model.html#logistic-regression\n",
      "  n_iter_i = _check_optimize_result(\n",
      "c:\\Users\\alban\\OneDrive\\Documents\\MLolp\\projet-main\\.venv\\Lib\\site-packages\\mlflow\\types\\utils.py:407: UserWarning: Hint: Inferred schema contains integer column(s). Integer columns in Python cannot represent missing values. If your input data contains missing values at inference time, it will be encoded as floats and will cause a schema enforcement error. The best way to avoid this problem is to infer the model schema based on a realistic data sample (training dataset) that includes missing values. Alternatively, you can declare integer columns as doubles (float64) whenever these columns may have missing values. See `Handling Integers With Missing Values <https://www.mlflow.org/docs/latest/models.html#handling-integers-with-missing-values>`_ for more details.\n",
      "  warnings.warn(\n",
      "c:\\Users\\alban\\OneDrive\\Documents\\MLolp\\projet-main\\.venv\\Lib\\site-packages\\mlflow\\types\\utils.py:407: UserWarning: Hint: Inferred schema contains integer column(s). Integer columns in Python cannot represent missing values. If your input data contains missing values at inference time, it will be encoded as floats and will cause a schema enforcement error. The best way to avoid this problem is to infer the model schema based on a realistic data sample (training dataset) that includes missing values. Alternatively, you can declare integer columns as doubles (float64) whenever these columns may have missing values. See `Handling Integers With Missing Values <https://www.mlflow.org/docs/latest/models.html#handling-integers-with-missing-values>`_ for more details.\n",
      "  warnings.warn(\n",
      "2024/09/08 11:11:43 INFO mlflow.tracking._tracking_service.client: 🏃 View run logistic_regression_run_6 at: http://127.0.0.1:5000/#/experiments/286315274138648484/runs/73c980e456424026acfd69e87661592a.\n",
      "2024/09/08 11:11:43 INFO mlflow.tracking._tracking_service.client: 🧪 View experiment at: http://127.0.0.1:5000/#/experiments/286315274138648484.\n"
     ]
    },
    {
     "name": "stdout",
     "output_type": "stream",
     "text": [
      "Run 6 completed with parameters: {'C': 1.0, 'solver': 'lbfgs', 'random_state': 42, 'class_weight': 'balanced', 'max_iter': 100}\n",
      "              precision    recall  f1-score   support\n",
      "\n",
      "           0       1.00      0.99      0.99      1652\n",
      "           1       0.95      0.98      0.96       348\n",
      "\n",
      "    accuracy                           0.99      2000\n",
      "   macro avg       0.97      0.99      0.98      2000\n",
      "weighted avg       0.99      0.99      0.99      2000\n",
      "\n"
     ]
    },
    {
     "name": "stderr",
     "output_type": "stream",
     "text": [
      "c:\\Users\\alban\\OneDrive\\Documents\\MLolp\\projet-main\\.venv\\Lib\\site-packages\\sklearn\\linear_model\\_logistic.py:469: ConvergenceWarning: lbfgs failed to converge (status=1):\n",
      "STOP: TOTAL NO. of ITERATIONS REACHED LIMIT.\n",
      "\n",
      "Increase the number of iterations (max_iter) or scale the data as shown in:\n",
      "    https://scikit-learn.org/stable/modules/preprocessing.html\n",
      "Please also refer to the documentation for alternative solver options:\n",
      "    https://scikit-learn.org/stable/modules/linear_model.html#logistic-regression\n",
      "  n_iter_i = _check_optimize_result(\n",
      "c:\\Users\\alban\\OneDrive\\Documents\\MLolp\\projet-main\\.venv\\Lib\\site-packages\\mlflow\\types\\utils.py:407: UserWarning: Hint: Inferred schema contains integer column(s). Integer columns in Python cannot represent missing values. If your input data contains missing values at inference time, it will be encoded as floats and will cause a schema enforcement error. The best way to avoid this problem is to infer the model schema based on a realistic data sample (training dataset) that includes missing values. Alternatively, you can declare integer columns as doubles (float64) whenever these columns may have missing values. See `Handling Integers With Missing Values <https://www.mlflow.org/docs/latest/models.html#handling-integers-with-missing-values>`_ for more details.\n",
      "  warnings.warn(\n",
      "c:\\Users\\alban\\OneDrive\\Documents\\MLolp\\projet-main\\.venv\\Lib\\site-packages\\mlflow\\types\\utils.py:407: UserWarning: Hint: Inferred schema contains integer column(s). Integer columns in Python cannot represent missing values. If your input data contains missing values at inference time, it will be encoded as floats and will cause a schema enforcement error. The best way to avoid this problem is to infer the model schema based on a realistic data sample (training dataset) that includes missing values. Alternatively, you can declare integer columns as doubles (float64) whenever these columns may have missing values. See `Handling Integers With Missing Values <https://www.mlflow.org/docs/latest/models.html#handling-integers-with-missing-values>`_ for more details.\n",
      "  warnings.warn(\n",
      "2024/09/08 11:11:48 INFO mlflow.tracking._tracking_service.client: 🏃 View run logistic_regression_run_7 at: http://127.0.0.1:5000/#/experiments/286315274138648484/runs/a735153917464d398d884720e48ee497.\n",
      "2024/09/08 11:11:48 INFO mlflow.tracking._tracking_service.client: 🧪 View experiment at: http://127.0.0.1:5000/#/experiments/286315274138648484.\n"
     ]
    },
    {
     "name": "stdout",
     "output_type": "stream",
     "text": [
      "Run 7 completed with parameters: {'C': 1.0, 'solver': 'lbfgs', 'random_state': 42, 'class_weight': 'balanced', 'max_iter': 200}\n",
      "              precision    recall  f1-score   support\n",
      "\n",
      "           0       1.00      1.00      1.00      1652\n",
      "           1       0.99      0.99      0.99       348\n",
      "\n",
      "    accuracy                           1.00      2000\n",
      "   macro avg       1.00      1.00      1.00      2000\n",
      "weighted avg       1.00      1.00      1.00      2000\n",
      "\n"
     ]
    },
    {
     "name": "stderr",
     "output_type": "stream",
     "text": [
      "c:\\Users\\alban\\OneDrive\\Documents\\MLolp\\projet-main\\.venv\\Lib\\site-packages\\sklearn\\linear_model\\_sag.py:349: ConvergenceWarning: The max_iter was reached which means the coef_ did not converge\n",
      "  warnings.warn(\n",
      "c:\\Users\\alban\\OneDrive\\Documents\\MLolp\\projet-main\\.venv\\Lib\\site-packages\\mlflow\\types\\utils.py:407: UserWarning: Hint: Inferred schema contains integer column(s). Integer columns in Python cannot represent missing values. If your input data contains missing values at inference time, it will be encoded as floats and will cause a schema enforcement error. The best way to avoid this problem is to infer the model schema based on a realistic data sample (training dataset) that includes missing values. Alternatively, you can declare integer columns as doubles (float64) whenever these columns may have missing values. See `Handling Integers With Missing Values <https://www.mlflow.org/docs/latest/models.html#handling-integers-with-missing-values>`_ for more details.\n",
      "  warnings.warn(\n",
      "c:\\Users\\alban\\OneDrive\\Documents\\MLolp\\projet-main\\.venv\\Lib\\site-packages\\mlflow\\types\\utils.py:407: UserWarning: Hint: Inferred schema contains integer column(s). Integer columns in Python cannot represent missing values. If your input data contains missing values at inference time, it will be encoded as floats and will cause a schema enforcement error. The best way to avoid this problem is to infer the model schema based on a realistic data sample (training dataset) that includes missing values. Alternatively, you can declare integer columns as doubles (float64) whenever these columns may have missing values. See `Handling Integers With Missing Values <https://www.mlflow.org/docs/latest/models.html#handling-integers-with-missing-values>`_ for more details.\n",
      "  warnings.warn(\n",
      "2024/09/08 11:11:53 INFO mlflow.tracking._tracking_service.client: 🏃 View run logistic_regression_run_8 at: http://127.0.0.1:5000/#/experiments/286315274138648484/runs/65bc7bc18ba24f40a4e0b1a7e234ee00.\n",
      "2024/09/08 11:11:53 INFO mlflow.tracking._tracking_service.client: 🧪 View experiment at: http://127.0.0.1:5000/#/experiments/286315274138648484.\n"
     ]
    },
    {
     "name": "stdout",
     "output_type": "stream",
     "text": [
      "Run 8 completed with parameters: {'C': 1.0, 'solver': 'saga', 'random_state': 42, 'class_weight': 'balanced', 'max_iter': 100}\n",
      "              precision    recall  f1-score   support\n",
      "\n",
      "           0       1.00      0.98      0.99      1652\n",
      "           1       0.91      0.98      0.94       348\n",
      "\n",
      "    accuracy                           0.98      2000\n",
      "   macro avg       0.95      0.98      0.96      2000\n",
      "weighted avg       0.98      0.98      0.98      2000\n",
      "\n"
     ]
    },
    {
     "name": "stderr",
     "output_type": "stream",
     "text": [
      "c:\\Users\\alban\\OneDrive\\Documents\\MLolp\\projet-main\\.venv\\Lib\\site-packages\\sklearn\\linear_model\\_sag.py:349: ConvergenceWarning: The max_iter was reached which means the coef_ did not converge\n",
      "  warnings.warn(\n",
      "c:\\Users\\alban\\OneDrive\\Documents\\MLolp\\projet-main\\.venv\\Lib\\site-packages\\mlflow\\types\\utils.py:407: UserWarning: Hint: Inferred schema contains integer column(s). Integer columns in Python cannot represent missing values. If your input data contains missing values at inference time, it will be encoded as floats and will cause a schema enforcement error. The best way to avoid this problem is to infer the model schema based on a realistic data sample (training dataset) that includes missing values. Alternatively, you can declare integer columns as doubles (float64) whenever these columns may have missing values. See `Handling Integers With Missing Values <https://www.mlflow.org/docs/latest/models.html#handling-integers-with-missing-values>`_ for more details.\n",
      "  warnings.warn(\n",
      "c:\\Users\\alban\\OneDrive\\Documents\\MLolp\\projet-main\\.venv\\Lib\\site-packages\\mlflow\\types\\utils.py:407: UserWarning: Hint: Inferred schema contains integer column(s). Integer columns in Python cannot represent missing values. If your input data contains missing values at inference time, it will be encoded as floats and will cause a schema enforcement error. The best way to avoid this problem is to infer the model schema based on a realistic data sample (training dataset) that includes missing values. Alternatively, you can declare integer columns as doubles (float64) whenever these columns may have missing values. See `Handling Integers With Missing Values <https://www.mlflow.org/docs/latest/models.html#handling-integers-with-missing-values>`_ for more details.\n",
      "  warnings.warn(\n",
      "2024/09/08 11:11:58 INFO mlflow.tracking._tracking_service.client: 🏃 View run logistic_regression_run_9 at: http://127.0.0.1:5000/#/experiments/286315274138648484/runs/45eb59bd12ac4eb294b28493ad10e5b6.\n",
      "2024/09/08 11:11:58 INFO mlflow.tracking._tracking_service.client: 🧪 View experiment at: http://127.0.0.1:5000/#/experiments/286315274138648484.\n"
     ]
    },
    {
     "name": "stdout",
     "output_type": "stream",
     "text": [
      "Run 9 completed with parameters: {'C': 1.0, 'solver': 'saga', 'random_state': 42, 'class_weight': 'balanced', 'max_iter': 200}\n",
      "              precision    recall  f1-score   support\n",
      "\n",
      "           0       1.00      0.98      0.99      1652\n",
      "           1       0.91      0.98      0.94       348\n",
      "\n",
      "    accuracy                           0.98      2000\n",
      "   macro avg       0.95      0.98      0.96      2000\n",
      "weighted avg       0.98      0.98      0.98      2000\n",
      "\n"
     ]
    },
    {
     "name": "stderr",
     "output_type": "stream",
     "text": [
      "c:\\Users\\alban\\OneDrive\\Documents\\MLolp\\projet-main\\.venv\\Lib\\site-packages\\sklearn\\linear_model\\_sag.py:349: ConvergenceWarning: The max_iter was reached which means the coef_ did not converge\n",
      "  warnings.warn(\n",
      "c:\\Users\\alban\\OneDrive\\Documents\\MLolp\\projet-main\\.venv\\Lib\\site-packages\\mlflow\\types\\utils.py:407: UserWarning: Hint: Inferred schema contains integer column(s). Integer columns in Python cannot represent missing values. If your input data contains missing values at inference time, it will be encoded as floats and will cause a schema enforcement error. The best way to avoid this problem is to infer the model schema based on a realistic data sample (training dataset) that includes missing values. Alternatively, you can declare integer columns as doubles (float64) whenever these columns may have missing values. See `Handling Integers With Missing Values <https://www.mlflow.org/docs/latest/models.html#handling-integers-with-missing-values>`_ for more details.\n",
      "  warnings.warn(\n",
      "c:\\Users\\alban\\OneDrive\\Documents\\MLolp\\projet-main\\.venv\\Lib\\site-packages\\mlflow\\types\\utils.py:407: UserWarning: Hint: Inferred schema contains integer column(s). Integer columns in Python cannot represent missing values. If your input data contains missing values at inference time, it will be encoded as floats and will cause a schema enforcement error. The best way to avoid this problem is to infer the model schema based on a realistic data sample (training dataset) that includes missing values. Alternatively, you can declare integer columns as doubles (float64) whenever these columns may have missing values. See `Handling Integers With Missing Values <https://www.mlflow.org/docs/latest/models.html#handling-integers-with-missing-values>`_ for more details.\n",
      "  warnings.warn(\n",
      "2024/09/08 11:12:03 INFO mlflow.tracking._tracking_service.client: 🏃 View run logistic_regression_run_10 at: http://127.0.0.1:5000/#/experiments/286315274138648484/runs/a07c280d492c4e85bd20afb08b7bf334.\n",
      "2024/09/08 11:12:03 INFO mlflow.tracking._tracking_service.client: 🧪 View experiment at: http://127.0.0.1:5000/#/experiments/286315274138648484.\n"
     ]
    },
    {
     "name": "stdout",
     "output_type": "stream",
     "text": [
      "Run 10 completed with parameters: {'C': 0.5, 'solver': 'saga', 'random_state': 42, 'class_weight': 'balanced', 'penalty': 'l1'}\n",
      "              precision    recall  f1-score   support\n",
      "\n",
      "           0       1.00      0.98      0.99      1652\n",
      "           1       0.91      0.98      0.94       348\n",
      "\n",
      "    accuracy                           0.98      2000\n",
      "   macro avg       0.95      0.98      0.96      2000\n",
      "weighted avg       0.98      0.98      0.98      2000\n",
      "\n"
     ]
    },
    {
     "name": "stderr",
     "output_type": "stream",
     "text": [
      "c:\\Users\\alban\\OneDrive\\Documents\\MLolp\\projet-main\\.venv\\Lib\\site-packages\\sklearn\\linear_model\\_sag.py:349: ConvergenceWarning: The max_iter was reached which means the coef_ did not converge\n",
      "  warnings.warn(\n",
      "c:\\Users\\alban\\OneDrive\\Documents\\MLolp\\projet-main\\.venv\\Lib\\site-packages\\mlflow\\types\\utils.py:407: UserWarning: Hint: Inferred schema contains integer column(s). Integer columns in Python cannot represent missing values. If your input data contains missing values at inference time, it will be encoded as floats and will cause a schema enforcement error. The best way to avoid this problem is to infer the model schema based on a realistic data sample (training dataset) that includes missing values. Alternatively, you can declare integer columns as doubles (float64) whenever these columns may have missing values. See `Handling Integers With Missing Values <https://www.mlflow.org/docs/latest/models.html#handling-integers-with-missing-values>`_ for more details.\n",
      "  warnings.warn(\n",
      "c:\\Users\\alban\\OneDrive\\Documents\\MLolp\\projet-main\\.venv\\Lib\\site-packages\\mlflow\\types\\utils.py:407: UserWarning: Hint: Inferred schema contains integer column(s). Integer columns in Python cannot represent missing values. If your input data contains missing values at inference time, it will be encoded as floats and will cause a schema enforcement error. The best way to avoid this problem is to infer the model schema based on a realistic data sample (training dataset) that includes missing values. Alternatively, you can declare integer columns as doubles (float64) whenever these columns may have missing values. See `Handling Integers With Missing Values <https://www.mlflow.org/docs/latest/models.html#handling-integers-with-missing-values>`_ for more details.\n",
      "  warnings.warn(\n",
      "2024/09/08 11:12:09 INFO mlflow.tracking._tracking_service.client: 🏃 View run logistic_regression_run_11 at: http://127.0.0.1:5000/#/experiments/286315274138648484/runs/a22926bb243e4b2c84420acb91b5b78f.\n",
      "2024/09/08 11:12:09 INFO mlflow.tracking._tracking_service.client: 🧪 View experiment at: http://127.0.0.1:5000/#/experiments/286315274138648484.\n"
     ]
    },
    {
     "name": "stdout",
     "output_type": "stream",
     "text": [
      "Run 11 completed with parameters: {'C': 0.5, 'solver': 'saga', 'random_state': 42, 'class_weight': 'balanced', 'penalty': 'l2'}\n",
      "              precision    recall  f1-score   support\n",
      "\n",
      "           0       1.00      0.98      0.99      1652\n",
      "           1       0.91      0.98      0.94       348\n",
      "\n",
      "    accuracy                           0.98      2000\n",
      "   macro avg       0.95      0.98      0.96      2000\n",
      "weighted avg       0.98      0.98      0.98      2000\n",
      "\n"
     ]
    },
    {
     "name": "stderr",
     "output_type": "stream",
     "text": [
      "c:\\Users\\alban\\OneDrive\\Documents\\MLolp\\projet-main\\.venv\\Lib\\site-packages\\mlflow\\types\\utils.py:407: UserWarning: Hint: Inferred schema contains integer column(s). Integer columns in Python cannot represent missing values. If your input data contains missing values at inference time, it will be encoded as floats and will cause a schema enforcement error. The best way to avoid this problem is to infer the model schema based on a realistic data sample (training dataset) that includes missing values. Alternatively, you can declare integer columns as doubles (float64) whenever these columns may have missing values. See `Handling Integers With Missing Values <https://www.mlflow.org/docs/latest/models.html#handling-integers-with-missing-values>`_ for more details.\n",
      "  warnings.warn(\n",
      "c:\\Users\\alban\\OneDrive\\Documents\\MLolp\\projet-main\\.venv\\Lib\\site-packages\\mlflow\\types\\utils.py:407: UserWarning: Hint: Inferred schema contains integer column(s). Integer columns in Python cannot represent missing values. If your input data contains missing values at inference time, it will be encoded as floats and will cause a schema enforcement error. The best way to avoid this problem is to infer the model schema based on a realistic data sample (training dataset) that includes missing values. Alternatively, you can declare integer columns as doubles (float64) whenever these columns may have missing values. See `Handling Integers With Missing Values <https://www.mlflow.org/docs/latest/models.html#handling-integers-with-missing-values>`_ for more details.\n",
      "  warnings.warn(\n",
      "2024/09/08 11:12:14 INFO mlflow.tracking._tracking_service.client: 🏃 View run logistic_regression_run_12 at: http://127.0.0.1:5000/#/experiments/286315274138648484/runs/fadf18eb20bd4ea29a775ab3efd157ae.\n",
      "2024/09/08 11:12:14 INFO mlflow.tracking._tracking_service.client: 🧪 View experiment at: http://127.0.0.1:5000/#/experiments/286315274138648484.\n"
     ]
    },
    {
     "name": "stdout",
     "output_type": "stream",
     "text": [
      "Run 12 completed with parameters: {'C': 0.01, 'solver': 'lbfgs', 'random_state': 42, 'class_weight': 'balanced', 'max_iter': 1000}\n",
      "              precision    recall  f1-score   support\n",
      "\n",
      "           0       1.00      0.98      0.99      1652\n",
      "           1       0.92      0.99      0.95       348\n",
      "\n",
      "    accuracy                           0.98      2000\n",
      "   macro avg       0.96      0.99      0.97      2000\n",
      "weighted avg       0.98      0.98      0.98      2000\n",
      "\n"
     ]
    }
   ],
   "source": [
    "from sklearn.linear_model import LogisticRegression\n",
    "import pandas as pd\n",
    "import numpy as np\n",
    "import mlflow\n",
    "from sklearn.model_selection import train_test_split\n",
    "from sklearn.metrics import accuracy_score, f1_score, precision_score, recall_score, classification_report\n",
    "\n",
    "# Définir l'URI de suivi\n",
    "mlflow.set_tracking_uri(\"http://127.0.0.1:5000\")\n",
    "\n",
    "# Créer ou sélectionner l'expérience pour la régression logistique\n",
    "mlflow.set_experiment(\"LogisticRegression_Models\")\n",
    "\n",
    "# Définir plusieurs combinaisons de paramètres à tester\n",
    "params_list = [\n",
    "\n",
    "    {\"C\": 0.01, \"solver\": 'liblinear', \"random_state\": 42, \"class_weight\": 'balanced'},\n",
    "    {\"C\": 0.1, \"solver\": 'liblinear', \"random_state\": 42, \"class_weight\": 'balanced'},\n",
    "    {\"C\": 1.0, \"solver\": 'liblinear', \"random_state\": 42, \"class_weight\": 'balanced'},\n",
    "    {\"C\": 10.0, \"solver\": 'liblinear', \"random_state\": 42, \"class_weight\": 'balanced'},\n",
    "    {\"C\": 100.0, \"solver\": 'liblinear', \"random_state\": 42, \"class_weight\": 'balanced'},\n",
    "    {\"C\": 1.0, \"solver\": 'lbfgs', \"random_state\": 42, \"class_weight\": 'balanced', \"max_iter\": 100},\n",
    "    {\"C\": 1.0, \"solver\": 'lbfgs', \"random_state\": 42, \"class_weight\": 'balanced', \"max_iter\": 200},\n",
    "    {\"C\": 1.0, \"solver\": 'saga', \"random_state\": 42, \"class_weight\": 'balanced', \"max_iter\": 100},\n",
    "    {\"C\": 1.0, \"solver\": 'saga', \"random_state\": 42, \"class_weight\": 'balanced', \"max_iter\": 200},\n",
    "    {\"C\": 0.5, \"solver\": 'saga', \"random_state\": 42, \"class_weight\": 'balanced', \"penalty\": 'l1'},\n",
    "    {\"C\": 0.5, \"solver\": 'saga', \"random_state\": 42, \"class_weight\": 'balanced', \"penalty\": 'l2'},\n",
    "    {\"C\": 0.01, \"solver\": 'lbfgs', \"random_state\": 42, \"class_weight\": 'balanced', \"max_iter\": 1000},\n",
    "]\n",
    "\n",
    "\n",
    "# Charger vos données\n",
    "\n",
    "X = data.drop(columns=[\"customer_id\", \"default\"])\n",
    "y = data[\"default\"]\n",
    "\n",
    "# Diviser les données\n",
    "X_train, X_val, y_train, y_val = train_test_split(X, y, test_size=0.2, random_state=42)\n",
    "\n",
    "# Boucle pour entraîner le modèle avec différentes combinaisons de paramètres\n",
    "for i, params in enumerate(params_list):\n",
    "    # Démarrer un run pour chaque ensemble de paramètres\n",
    "    with mlflow.start_run(run_name=f\"logistic_regression_run_{i+1}\"):\n",
    "        # Entraîner le modèle de régression logistique\n",
    "        lr_model = LogisticRegression(**params)\n",
    "        lr_model.fit(X_train, y_train)\n",
    "\n",
    "        # Prédire sur l'ensemble de validation\n",
    "        y_pred = lr_model.predict(X_val)\n",
    "\n",
    "        # Calculer les métriques de classification\n",
    "        accuracy = accuracy_score(y_val, y_pred)\n",
    "        f1 = f1_score(y_val, y_pred)\n",
    "        precision = precision_score(y_val, y_pred)\n",
    "        recall = recall_score(y_val, y_pred)\n",
    "\n",
    "        # Assembler les métriques dans une collection pour les enregistrer\n",
    "        metrics = {\"accuracy\": accuracy, \"f1_score\": f1, \"precision\": precision, \"recall\": recall}\n",
    "\n",
    "        # Enregistrer les paramètres et les métriques dans MLflow\n",
    "        mlflow.log_params(params)\n",
    "        mlflow.log_metrics(metrics)\n",
    "\n",
    "        # Enregistrer le modèle entraîné comme artefact\n",
    "        mlflow.sklearn.log_model(\n",
    "            sk_model=lr_model, input_example=X_val, artifact_path=\"logistic_regression_model\"\n",
    "        )\n",
    "\n",
    "        # Afficher le rapport de classification\n",
    "        print(f\"Run {i+1} completed with parameters: {params}\")\n",
    "        print(classification_report(y_val, y_pred))\n"
   ]
  },
  {
   "cell_type": "code",
   "execution_count": 28,
   "metadata": {},
   "outputs": [
    {
     "name": "stderr",
     "output_type": "stream",
     "text": [
      "c:\\Users\\alban\\OneDrive\\Documents\\MLolp\\projet-main\\.venv\\Lib\\site-packages\\mlflow\\types\\utils.py:407: UserWarning: Hint: Inferred schema contains integer column(s). Integer columns in Python cannot represent missing values. If your input data contains missing values at inference time, it will be encoded as floats and will cause a schema enforcement error. The best way to avoid this problem is to infer the model schema based on a realistic data sample (training dataset) that includes missing values. Alternatively, you can declare integer columns as doubles (float64) whenever these columns may have missing values. See `Handling Integers With Missing Values <https://www.mlflow.org/docs/latest/models.html#handling-integers-with-missing-values>`_ for more details.\n",
      "  warnings.warn(\n",
      "c:\\Users\\alban\\OneDrive\\Documents\\MLolp\\projet-main\\.venv\\Lib\\site-packages\\mlflow\\types\\utils.py:407: UserWarning: Hint: Inferred schema contains integer column(s). Integer columns in Python cannot represent missing values. If your input data contains missing values at inference time, it will be encoded as floats and will cause a schema enforcement error. The best way to avoid this problem is to infer the model schema based on a realistic data sample (training dataset) that includes missing values. Alternatively, you can declare integer columns as doubles (float64) whenever these columns may have missing values. See `Handling Integers With Missing Values <https://www.mlflow.org/docs/latest/models.html#handling-integers-with-missing-values>`_ for more details.\n",
      "  warnings.warn(\n",
      "2024/09/08 11:27:31 INFO mlflow.tracking._tracking_service.client: 🏃 View run random_forest_run_50_4 at: http://127.0.0.1:5000/#/experiments/276980095504201702/runs/6a5414f281fa4e58853633ab80b04bb7.\n",
      "2024/09/08 11:27:31 INFO mlflow.tracking._tracking_service.client: 🧪 View experiment at: http://127.0.0.1:5000/#/experiments/276980095504201702.\n"
     ]
    },
    {
     "name": "stdout",
     "output_type": "stream",
     "text": [
      "Run completed with parameters: {'n_estimators': 50, 'max_depth': 4, 'min_samples_split': 5, 'min_samples_leaf': 2, 'bootstrap': True, 'oob_score': True, 'random_state': 888, 'class_weight': 'balanced'}\n",
      "Accuracy: 0.9725, F1-Score: 0.9262, Precision: 0.8690, Recall: 0.9914\n"
     ]
    },
    {
     "name": "stderr",
     "output_type": "stream",
     "text": [
      "c:\\Users\\alban\\OneDrive\\Documents\\MLolp\\projet-main\\.venv\\Lib\\site-packages\\mlflow\\types\\utils.py:407: UserWarning: Hint: Inferred schema contains integer column(s). Integer columns in Python cannot represent missing values. If your input data contains missing values at inference time, it will be encoded as floats and will cause a schema enforcement error. The best way to avoid this problem is to infer the model schema based on a realistic data sample (training dataset) that includes missing values. Alternatively, you can declare integer columns as doubles (float64) whenever these columns may have missing values. See `Handling Integers With Missing Values <https://www.mlflow.org/docs/latest/models.html#handling-integers-with-missing-values>`_ for more details.\n",
      "  warnings.warn(\n",
      "c:\\Users\\alban\\OneDrive\\Documents\\MLolp\\projet-main\\.venv\\Lib\\site-packages\\mlflow\\types\\utils.py:407: UserWarning: Hint: Inferred schema contains integer column(s). Integer columns in Python cannot represent missing values. If your input data contains missing values at inference time, it will be encoded as floats and will cause a schema enforcement error. The best way to avoid this problem is to infer the model schema based on a realistic data sample (training dataset) that includes missing values. Alternatively, you can declare integer columns as doubles (float64) whenever these columns may have missing values. See `Handling Integers With Missing Values <https://www.mlflow.org/docs/latest/models.html#handling-integers-with-missing-values>`_ for more details.\n",
      "  warnings.warn(\n",
      "2024/09/08 11:27:34 INFO mlflow.tracking._tracking_service.client: 🏃 View run random_forest_run_100_6 at: http://127.0.0.1:5000/#/experiments/276980095504201702/runs/59e10e1497664757b68d66c277e0252b.\n",
      "2024/09/08 11:27:34 INFO mlflow.tracking._tracking_service.client: 🧪 View experiment at: http://127.0.0.1:5000/#/experiments/276980095504201702.\n"
     ]
    },
    {
     "name": "stdout",
     "output_type": "stream",
     "text": [
      "Run completed with parameters: {'n_estimators': 100, 'max_depth': 6, 'min_samples_split': 10, 'min_samples_leaf': 4, 'bootstrap': True, 'oob_score': True, 'random_state': 888, 'class_weight': 'balanced'}\n",
      "Accuracy: 0.9915, F1-Score: 0.9759, Precision: 0.9636, Recall: 0.9885\n"
     ]
    },
    {
     "name": "stderr",
     "output_type": "stream",
     "text": [
      "c:\\Users\\alban\\OneDrive\\Documents\\MLolp\\projet-main\\.venv\\Lib\\site-packages\\mlflow\\types\\utils.py:407: UserWarning: Hint: Inferred schema contains integer column(s). Integer columns in Python cannot represent missing values. If your input data contains missing values at inference time, it will be encoded as floats and will cause a schema enforcement error. The best way to avoid this problem is to infer the model schema based on a realistic data sample (training dataset) that includes missing values. Alternatively, you can declare integer columns as doubles (float64) whenever these columns may have missing values. See `Handling Integers With Missing Values <https://www.mlflow.org/docs/latest/models.html#handling-integers-with-missing-values>`_ for more details.\n",
      "  warnings.warn(\n",
      "c:\\Users\\alban\\OneDrive\\Documents\\MLolp\\projet-main\\.venv\\Lib\\site-packages\\mlflow\\types\\utils.py:407: UserWarning: Hint: Inferred schema contains integer column(s). Integer columns in Python cannot represent missing values. If your input data contains missing values at inference time, it will be encoded as floats and will cause a schema enforcement error. The best way to avoid this problem is to infer the model schema based on a realistic data sample (training dataset) that includes missing values. Alternatively, you can declare integer columns as doubles (float64) whenever these columns may have missing values. See `Handling Integers With Missing Values <https://www.mlflow.org/docs/latest/models.html#handling-integers-with-missing-values>`_ for more details.\n",
      "  warnings.warn(\n",
      "2024/09/08 11:27:37 INFO mlflow.tracking._tracking_service.client: 🏃 View run random_forest_run_200_8 at: http://127.0.0.1:5000/#/experiments/276980095504201702/runs/5c9154598590432f8fddc5ef94f357dc.\n",
      "2024/09/08 11:27:37 INFO mlflow.tracking._tracking_service.client: 🧪 View experiment at: http://127.0.0.1:5000/#/experiments/276980095504201702.\n"
     ]
    },
    {
     "name": "stdout",
     "output_type": "stream",
     "text": [
      "Run completed with parameters: {'n_estimators': 200, 'max_depth': 8, 'min_samples_split': 15, 'min_samples_leaf': 6, 'bootstrap': True, 'oob_score': True, 'random_state': 888, 'class_weight': 'balanced'}\n",
      "Accuracy: 0.9890, F1-Score: 0.9689, Precision: 0.9528, Recall: 0.9856\n"
     ]
    },
    {
     "name": "stderr",
     "output_type": "stream",
     "text": [
      "c:\\Users\\alban\\OneDrive\\Documents\\MLolp\\projet-main\\.venv\\Lib\\site-packages\\mlflow\\types\\utils.py:407: UserWarning: Hint: Inferred schema contains integer column(s). Integer columns in Python cannot represent missing values. If your input data contains missing values at inference time, it will be encoded as floats and will cause a schema enforcement error. The best way to avoid this problem is to infer the model schema based on a realistic data sample (training dataset) that includes missing values. Alternatively, you can declare integer columns as doubles (float64) whenever these columns may have missing values. See `Handling Integers With Missing Values <https://www.mlflow.org/docs/latest/models.html#handling-integers-with-missing-values>`_ for more details.\n",
      "  warnings.warn(\n",
      "c:\\Users\\alban\\OneDrive\\Documents\\MLolp\\projet-main\\.venv\\Lib\\site-packages\\mlflow\\types\\utils.py:407: UserWarning: Hint: Inferred schema contains integer column(s). Integer columns in Python cannot represent missing values. If your input data contains missing values at inference time, it will be encoded as floats and will cause a schema enforcement error. The best way to avoid this problem is to infer the model schema based on a realistic data sample (training dataset) that includes missing values. Alternatively, you can declare integer columns as doubles (float64) whenever these columns may have missing values. See `Handling Integers With Missing Values <https://www.mlflow.org/docs/latest/models.html#handling-integers-with-missing-values>`_ for more details.\n",
      "  warnings.warn(\n",
      "2024/09/08 11:27:40 INFO mlflow.tracking._tracking_service.client: 🏃 View run random_forest_run_100_None at: http://127.0.0.1:5000/#/experiments/276980095504201702/runs/af454d45f1bb44f782714035c0f595d8.\n",
      "2024/09/08 11:27:40 INFO mlflow.tracking._tracking_service.client: 🧪 View experiment at: http://127.0.0.1:5000/#/experiments/276980095504201702.\n"
     ]
    },
    {
     "name": "stdout",
     "output_type": "stream",
     "text": [
      "Run completed with parameters: {'n_estimators': 100, 'max_depth': None, 'min_samples_split': 10, 'min_samples_leaf': 2, 'bootstrap': True, 'oob_score': True, 'random_state': 888, 'class_weight': 'balanced'}\n",
      "Accuracy: 0.9940, F1-Score: 0.9828, Precision: 0.9828, Recall: 0.9828\n"
     ]
    },
    {
     "name": "stderr",
     "output_type": "stream",
     "text": [
      "c:\\Users\\alban\\OneDrive\\Documents\\MLolp\\projet-main\\.venv\\Lib\\site-packages\\mlflow\\types\\utils.py:407: UserWarning: Hint: Inferred schema contains integer column(s). Integer columns in Python cannot represent missing values. If your input data contains missing values at inference time, it will be encoded as floats and will cause a schema enforcement error. The best way to avoid this problem is to infer the model schema based on a realistic data sample (training dataset) that includes missing values. Alternatively, you can declare integer columns as doubles (float64) whenever these columns may have missing values. See `Handling Integers With Missing Values <https://www.mlflow.org/docs/latest/models.html#handling-integers-with-missing-values>`_ for more details.\n",
      "  warnings.warn(\n",
      "c:\\Users\\alban\\OneDrive\\Documents\\MLolp\\projet-main\\.venv\\Lib\\site-packages\\mlflow\\types\\utils.py:407: UserWarning: Hint: Inferred schema contains integer column(s). Integer columns in Python cannot represent missing values. If your input data contains missing values at inference time, it will be encoded as floats and will cause a schema enforcement error. The best way to avoid this problem is to infer the model schema based on a realistic data sample (training dataset) that includes missing values. Alternatively, you can declare integer columns as doubles (float64) whenever these columns may have missing values. See `Handling Integers With Missing Values <https://www.mlflow.org/docs/latest/models.html#handling-integers-with-missing-values>`_ for more details.\n",
      "  warnings.warn(\n",
      "2024/09/08 11:27:43 INFO mlflow.tracking._tracking_service.client: 🏃 View run random_forest_run_150_10 at: http://127.0.0.1:5000/#/experiments/276980095504201702/runs/aa42fcd8a960450495394ea589b0536a.\n",
      "2024/09/08 11:27:43 INFO mlflow.tracking._tracking_service.client: 🧪 View experiment at: http://127.0.0.1:5000/#/experiments/276980095504201702.\n"
     ]
    },
    {
     "name": "stdout",
     "output_type": "stream",
     "text": [
      "Run completed with parameters: {'n_estimators': 150, 'max_depth': 10, 'min_samples_split': 8, 'min_samples_leaf': 3, 'bootstrap': True, 'oob_score': True, 'random_state': 888, 'class_weight': 'balanced'}\n",
      "Accuracy: 0.9925, F1-Score: 0.9785, Precision: 0.9744, Recall: 0.9828\n"
     ]
    },
    {
     "name": "stderr",
     "output_type": "stream",
     "text": [
      "c:\\Users\\alban\\OneDrive\\Documents\\MLolp\\projet-main\\.venv\\Lib\\site-packages\\mlflow\\types\\utils.py:407: UserWarning: Hint: Inferred schema contains integer column(s). Integer columns in Python cannot represent missing values. If your input data contains missing values at inference time, it will be encoded as floats and will cause a schema enforcement error. The best way to avoid this problem is to infer the model schema based on a realistic data sample (training dataset) that includes missing values. Alternatively, you can declare integer columns as doubles (float64) whenever these columns may have missing values. See `Handling Integers With Missing Values <https://www.mlflow.org/docs/latest/models.html#handling-integers-with-missing-values>`_ for more details.\n",
      "  warnings.warn(\n",
      "c:\\Users\\alban\\OneDrive\\Documents\\MLolp\\projet-main\\.venv\\Lib\\site-packages\\mlflow\\types\\utils.py:407: UserWarning: Hint: Inferred schema contains integer column(s). Integer columns in Python cannot represent missing values. If your input data contains missing values at inference time, it will be encoded as floats and will cause a schema enforcement error. The best way to avoid this problem is to infer the model schema based on a realistic data sample (training dataset) that includes missing values. Alternatively, you can declare integer columns as doubles (float64) whenever these columns may have missing values. See `Handling Integers With Missing Values <https://www.mlflow.org/docs/latest/models.html#handling-integers-with-missing-values>`_ for more details.\n",
      "  warnings.warn(\n",
      "2024/09/08 11:27:46 INFO mlflow.tracking._tracking_service.client: 🏃 View run random_forest_run_200_None at: http://127.0.0.1:5000/#/experiments/276980095504201702/runs/c943fb900a42473c89d60cde69e6b326.\n",
      "2024/09/08 11:27:46 INFO mlflow.tracking._tracking_service.client: 🧪 View experiment at: http://127.0.0.1:5000/#/experiments/276980095504201702.\n"
     ]
    },
    {
     "name": "stdout",
     "output_type": "stream",
     "text": [
      "Run completed with parameters: {'n_estimators': 200, 'max_depth': None, 'min_samples_split': 5, 'min_samples_leaf': 1, 'bootstrap': False, 'oob_score': False, 'random_state': 888, 'class_weight': 'balanced'}\n",
      "Accuracy: 0.9955, F1-Score: 0.9870, Precision: 0.9913, Recall: 0.9828\n"
     ]
    }
   ],
   "source": [
    "import pandas as pd\n",
    "import numpy as np\n",
    "import mlflow\n",
    "from sklearn.ensemble import RandomForestClassifier\n",
    "from sklearn.model_selection import train_test_split\n",
    "from sklearn.metrics import accuracy_score, f1_score, precision_score, recall_score\n",
    "import pickle\n",
    "\n",
    "# Diviser les données en caractéristiques (X) et cible (y)\n",
    "X = data.drop(columns=[\"customer_id\", \"default\"])  # Enlever les colonnes 'customer_id' et 'default'\n",
    "y = data[\"default\"]\n",
    "\n",
    "# Diviser les données en ensembles d'entraînement et de validation\n",
    "X_train, X_val, y_train, y_val = train_test_split(X, y, test_size=0.2, random_state=42)\n",
    "\n",
    "# Définir une nouvelle expérience pour le modèle Random Forest\n",
    "mlflow.set_experiment(\"RandomForest_Models\")\n",
    "\n",
    "# Liste des ensembles de paramètres à explorer\n",
    "params_list = [\n",
    "    {\"n_estimators\": 50, \"max_depth\": 4, \"min_samples_split\": 5, \"min_samples_leaf\": 2, \"bootstrap\": True, \"oob_score\": True, \"random_state\": 888, \"class_weight\": 'balanced'},\n",
    "    {\"n_estimators\": 100, \"max_depth\": 6, \"min_samples_split\": 10, \"min_samples_leaf\": 4, \"bootstrap\": True, \"oob_score\": True, \"random_state\": 888, \"class_weight\": 'balanced'},\n",
    "    {\"n_estimators\": 200, \"max_depth\": 8, \"min_samples_split\": 15, \"min_samples_leaf\": 6, \"bootstrap\": True, \"oob_score\": True, \"random_state\": 888, \"class_weight\": 'balanced'},\n",
    "    {\"n_estimators\": 100, \"max_depth\": None, \"min_samples_split\": 10, \"min_samples_leaf\": 2, \"bootstrap\": True, \"oob_score\": True, \"random_state\": 888, \"class_weight\": 'balanced'},\n",
    "    {\"n_estimators\": 150, \"max_depth\": 10, \"min_samples_split\": 8, \"min_samples_leaf\": 3, \"bootstrap\": True, \"oob_score\": True, \"random_state\": 888, \"class_weight\": 'balanced'},\n",
    "    {\"n_estimators\": 200, \"max_depth\": None, \"min_samples_split\": 5, \"min_samples_leaf\": 1, \"bootstrap\": False, \"oob_score\": False, \"random_state\": 888, \"class_weight\": 'balanced'},\n",
    "]\n",
    "\n",
    "best_rf_model = None  # Variable pour stocker le meilleur modèle\n",
    "\n",
    "# Itérer sur chaque ensemble de paramètres et effectuer un run pour chaque configuration\n",
    "for params in params_list:\n",
    "    with mlflow.start_run(run_name=f\"random_forest_run_{params['n_estimators']}_{params['max_depth']}\"):\n",
    "        # Entraîner le modèle RandomForestClassifier avec les paramètres actuels\n",
    "        rf = RandomForestClassifier(**params)\n",
    "        rf.fit(X_train, y_train)\n",
    "\n",
    "        # Prédire sur l'ensemble de validation\n",
    "        y_pred = rf.predict(X_val)\n",
    "\n",
    "        # Calculer les métriques de classification\n",
    "        accuracy = accuracy_score(y_val, y_pred)\n",
    "        f1 = f1_score(y_val, y_pred)\n",
    "        precision = precision_score(y_val, y_pred)\n",
    "        recall = recall_score(y_val, y_pred)\n",
    "\n",
    "        # Assembler les métriques dans une collection pour les enregistrer\n",
    "        metrics = {\"accuracy\": accuracy, \"f1_score\": f1, \"precision\": precision, \"recall\": recall}\n",
    "\n",
    "        # Enregistrer les paramètres et les métriques dans MLflow\n",
    "        mlflow.log_params(params)\n",
    "        mlflow.log_metrics(metrics)\n",
    "\n",
    "        # Enregistrer une instance du modèle entraîné pour une utilisation ultérieure dans MLflow\n",
    "        mlflow.sklearn.log_model(\n",
    "            sk_model=rf, input_example=X_val, artifact_path=\"random_forest_model\"\n",
    "        )\n",
    "\n",
    "        # Afficher le rapport de classification\n",
    "        print(f\"Run completed with parameters: {params}\")\n",
    "        print(f\"Accuracy: {accuracy:.4f}, F1-Score: {f1:.4f}, Precision: {precision:.4f}, Recall: {recall:.4f}\")\n",
    "\n",
    "        # Mettre à jour le meilleur modèle\n",
    "        best_rf_model = rf\n",
    "\n",
    "# Enregistrer le dernier modèle (considéré comme le meilleur modèle) au format pickle\n",
    "if best_rf_model is not None:\n",
    "    with open(\"random_forest_model2pkl\", \"wb\") as f:\n",
    "        pickle.dump(best_rf_model, f)"
   ]
  },
  {
   "cell_type": "markdown",
   "metadata": {},
   "source": [
    "#### modèle pour faire le versionning comme demandé"
   ]
  },
  {
   "cell_type": "code",
   "execution_count": 30,
   "metadata": {},
   "outputs": [
    {
     "name": "stderr",
     "output_type": "stream",
     "text": [
      "c:\\Users\\alban\\OneDrive\\Documents\\MLolp\\projet-main\\.venv\\Lib\\site-packages\\mlflow\\types\\utils.py:407: UserWarning: Hint: Inferred schema contains integer column(s). Integer columns in Python cannot represent missing values. If your input data contains missing values at inference time, it will be encoded as floats and will cause a schema enforcement error. The best way to avoid this problem is to infer the model schema based on a realistic data sample (training dataset) that includes missing values. Alternatively, you can declare integer columns as doubles (float64) whenever these columns may have missing values. See `Handling Integers With Missing Values <https://www.mlflow.org/docs/latest/models.html#handling-integers-with-missing-values>`_ for more details.\n",
      "  warnings.warn(\n",
      "c:\\Users\\alban\\OneDrive\\Documents\\MLolp\\projet-main\\.venv\\Lib\\site-packages\\mlflow\\types\\utils.py:407: UserWarning: Hint: Inferred schema contains integer column(s). Integer columns in Python cannot represent missing values. If your input data contains missing values at inference time, it will be encoded as floats and will cause a schema enforcement error. The best way to avoid this problem is to infer the model schema based on a realistic data sample (training dataset) that includes missing values. Alternatively, you can declare integer columns as doubles (float64) whenever these columns may have missing values. See `Handling Integers With Missing Values <https://www.mlflow.org/docs/latest/models.html#handling-integers-with-missing-values>`_ for more details.\n",
      "  warnings.warn(\n",
      "2024/09/08 11:41:35 INFO mlflow.tracking._tracking_service.client: 🏃 View run random_forest_run_100_5 at: http://127.0.0.1:5000/#/experiments/276980095504201702/runs/5a8973b247484af595035f94c1da3908.\n",
      "2024/09/08 11:41:35 INFO mlflow.tracking._tracking_service.client: 🧪 View experiment at: http://127.0.0.1:5000/#/experiments/276980095504201702.\n"
     ]
    },
    {
     "name": "stdout",
     "output_type": "stream",
     "text": [
      "Run completed with parameters: {'n_estimators': 100, 'max_depth': 5, 'min_samples_split': 20, 'min_samples_leaf': 10, 'bootstrap': True, 'oob_score': True, 'random_state': 888, 'class_weight': 'balanced'}\n",
      "Accuracy: 0.9825, F1-Score: 0.9517, Precision: 0.9151, Recall: 0.9914\n"
     ]
    }
   ],
   "source": [
    "import pandas as pd\n",
    "import numpy as np\n",
    "import mlflow\n",
    "from sklearn.ensemble import RandomForestClassifier\n",
    "from sklearn.model_selection import train_test_split\n",
    "from sklearn.metrics import accuracy_score, f1_score, precision_score, recall_score\n",
    "import pickle\n",
    "\n",
    "# Diviser les données en caractéristiques (X) et cible (y)\n",
    "X = data.drop(columns=[\"customer_id\", \"default\"])  # Enlever les colonnes 'customer_id' et 'default'\n",
    "y = data[\"default\"]\n",
    "\n",
    "# Diviser les données en ensembles d'entraînement et de validation\n",
    "X_train, X_val, y_train, y_val = train_test_split(X, y, test_size=0.2, random_state=42)\n",
    "\n",
    "# Définir une nouvelle expérience pour le modèle Random Forest\n",
    "mlflow.set_experiment(\"RandomForest_Models\")\n",
    "\n",
    "# Définir un ensemble de paramètres pour le modèle RandomForestClassifier\n",
    "params = {\n",
    "    \"n_estimators\": 100,\n",
    "    \"max_depth\": 5,\n",
    "    \"min_samples_split\": 20,\n",
    "    \"min_samples_leaf\": 10,\n",
    "    \"bootstrap\": True,\n",
    "    \"oob_score\": True,\n",
    "    \"random_state\": 888,\n",
    "    \"class_weight\": 'balanced'\n",
    "}\n",
    "\n",
    "# Démarrer un run dans MLflow\n",
    "with mlflow.start_run(run_name=f\"random_forest_run_{params['n_estimators']}_{params['max_depth']}\"):\n",
    "    # Entraîner le modèle RandomForestClassifier avec les paramètres actuels\n",
    "    rf = RandomForestClassifier(**params)\n",
    "    rf.fit(X_train, y_train)\n",
    "\n",
    "    # Prédire sur l'ensemble de validation\n",
    "    y_pred = rf.predict(X_val)\n",
    "\n",
    "    # Calculer les métriques de classification\n",
    "    accuracy = accuracy_score(y_val, y_pred)\n",
    "    f1 = f1_score(y_val, y_pred)\n",
    "    precision = precision_score(y_val, y_pred)\n",
    "    recall = recall_score(y_val, y_pred)\n",
    "\n",
    "    # Assembler les métriques dans une collection pour les enregistrer\n",
    "    metrics = {\"accuracy\": accuracy, \"f1_score\": f1, \"precision\": precision, \"recall\": recall}\n",
    "\n",
    "    # Enregistrer les paramètres et les métriques dans MLflow\n",
    "    mlflow.log_params(params)\n",
    "    mlflow.log_metrics(metrics)\n",
    "\n",
    "    # Enregistrer une instance du modèle entraîné pour une utilisation ultérieure dans MLflow\n",
    "    mlflow.sklearn.log_model(\n",
    "        sk_model=rf, input_example=X_val, artifact_path=\"random_forest_model\"\n",
    "    )\n",
    "\n",
    "    # Afficher le rapport de classification\n",
    "    print(f\"Run completed with parameters: {params}\")\n",
    "    print(f\"Accuracy: {accuracy:.4f}, F1-Score: {f1:.4f}, Precision: {precision:.4f}, Recall: {recall:.4f}\")\n",
    "\n",
    "\n"
   ]
  },
  {
   "cell_type": "code",
   "execution_count": 31,
   "metadata": {},
   "outputs": [
    {
     "name": "stderr",
     "output_type": "stream",
     "text": [
      "c:\\Users\\alban\\OneDrive\\Documents\\MLolp\\projet-main\\.venv\\Lib\\site-packages\\mlflow\\types\\utils.py:407: UserWarning: Hint: Inferred schema contains integer column(s). Integer columns in Python cannot represent missing values. If your input data contains missing values at inference time, it will be encoded as floats and will cause a schema enforcement error. The best way to avoid this problem is to infer the model schema based on a realistic data sample (training dataset) that includes missing values. Alternatively, you can declare integer columns as doubles (float64) whenever these columns may have missing values. See `Handling Integers With Missing Values <https://www.mlflow.org/docs/latest/models.html#handling-integers-with-missing-values>`_ for more details.\n",
      "  warnings.warn(\n",
      "c:\\Users\\alban\\OneDrive\\Documents\\MLolp\\projet-main\\.venv\\Lib\\site-packages\\mlflow\\types\\utils.py:407: UserWarning: Hint: Inferred schema contains integer column(s). Integer columns in Python cannot represent missing values. If your input data contains missing values at inference time, it will be encoded as floats and will cause a schema enforcement error. The best way to avoid this problem is to infer the model schema based on a realistic data sample (training dataset) that includes missing values. Alternatively, you can declare integer columns as doubles (float64) whenever these columns may have missing values. See `Handling Integers With Missing Values <https://www.mlflow.org/docs/latest/models.html#handling-integers-with-missing-values>`_ for more details.\n",
      "  warnings.warn(\n",
      "2024/09/08 11:43:44 INFO mlflow.tracking._tracking_service.client: 🏃 View run logistic_regression_run_1.0 at: http://127.0.0.1:5000/#/experiments/286315274138648484/runs/133483d3214746fbb16a0d31f8f85a7e.\n",
      "2024/09/08 11:43:44 INFO mlflow.tracking._tracking_service.client: 🧪 View experiment at: http://127.0.0.1:5000/#/experiments/286315274138648484.\n"
     ]
    },
    {
     "name": "stdout",
     "output_type": "stream",
     "text": [
      "Run completed with parameters: {'C': 1.0, 'solver': 'liblinear', 'random_state': 42, 'class_weight': 'balanced'}\n",
      "Accuracy: 0.9790, F1-Score: 0.9420, Precision: 0.9069, Recall: 0.9799\n"
     ]
    }
   ],
   "source": [
    "import pandas as pd\n",
    "import numpy as np\n",
    "import mlflow\n",
    "from sklearn.linear_model import LogisticRegression\n",
    "from sklearn.model_selection import train_test_split\n",
    "from sklearn.metrics import accuracy_score, f1_score, precision_score, recall_score\n",
    "import pickle\n",
    "\n",
    "# Diviser les données en caractéristiques (X) et cible (y)\n",
    "X = data.drop(columns=[\"customer_id\", \"default\"])  # Enlever les colonnes 'customer_id' et 'default'\n",
    "y = data[\"default\"]\n",
    "\n",
    "# Diviser les données en ensembles d'entraînement et de validation\n",
    "X_train, X_val, y_train, y_val = train_test_split(X, y, test_size=0.2, random_state=42)\n",
    "\n",
    "# Définir une nouvelle expérience pour le modèle de Régression Logistique\n",
    "mlflow.set_experiment(\"LogisticRegression_Models\")\n",
    "\n",
    "# Définir un ensemble de paramètres pour le modèle LogisticRegression\n",
    "params = {\n",
    "    \"C\": 1.0,\n",
    "    \"solver\": 'liblinear',\n",
    "    \"random_state\": 42,\n",
    "    \"class_weight\": 'balanced'\n",
    "}\n",
    "\n",
    "# Démarrer un run dans MLflow\n",
    "with mlflow.start_run(run_name=f\"logistic_regression_run_{params['C']}\"):\n",
    "    # Entraîner le modèle LogisticRegression avec les paramètres actuels\n",
    "    lr = LogisticRegression(**params)\n",
    "    lr.fit(X_train, y_train)\n",
    "\n",
    "    # Prédire sur l'ensemble de validation\n",
    "    y_pred = lr.predict(X_val)\n",
    "\n",
    "    # Calculer les métriques de classification\n",
    "    accuracy = accuracy_score(y_val, y_pred)\n",
    "    f1 = f1_score(y_val, y_pred)\n",
    "    precision = precision_score(y_val, y_pred)\n",
    "    recall = recall_score(y_val, y_pred)\n",
    "\n",
    "    # Assembler les métriques dans une collection pour les enregistrer\n",
    "    metrics = {\"accuracy\": accuracy, \"f1_score\": f1, \"precision\": precision, \"recall\": recall}\n",
    "\n",
    "    # Enregistrer les paramètres et les métriques dans MLflow\n",
    "    mlflow.log_params(params)\n",
    "    mlflow.log_metrics(metrics)\n",
    "\n",
    "    # Enregistrer une instance du modèle entraîné pour une utilisation ultérieure dans MLflow\n",
    "    mlflow.sklearn.log_model(\n",
    "        sk_model=lr, input_example=X_val, artifact_path=\"logistic_regression_model\"\n",
    "    )\n",
    "\n",
    "    # Afficher le rapport de classification\n",
    "    print(f\"Run completed with parameters: {params}\")\n",
    "    print(f\"Accuracy: {accuracy:.4f}, F1-Score: {f1:.4f}, Precision: {precision:.4f}, Recall: {recall:.4f}\")\n",
    "\n",
    "# Enregistrer le modèle au format pickle\n",
    "with open(\"logistic_regression_model.pkl\", \"wb\") as f:\n",
    "    pickle.dump(lr, f)\n"
   ]
  }
 ],
 "metadata": {
  "kernelspec": {
   "display_name": "Python 3",
   "language": "python",
   "name": "python3"
  },
  "language_info": {
   "codemirror_mode": {
    "name": "ipython",
    "version": 3
   },
   "file_extension": ".py",
   "mimetype": "text/x-python",
   "name": "python",
   "nbconvert_exporter": "python",
   "pygments_lexer": "ipython3",
   "version": "3.11.9"
  }
 },
 "nbformat": 4,
 "nbformat_minor": 2
}
